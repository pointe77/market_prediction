{
 "cells": [
  {
   "cell_type": "code",
   "execution_count": 203,
   "metadata": {},
   "outputs": [],
   "source": [
    "import os\n",
    "import sys\n",
    "import time\n",
    "import pickle\n",
    "import numpy as np\n",
    "import pandas as pd\n",
    "from tqdm._tqdm_notebook import tqdm_notebook\n",
    "\n",
    "from keras.models import Sequential, load_model\n",
    "from keras.layers import Dense, Dropout\n",
    "from keras.layers import LSTM\n",
    "from keras.callbacks import ModelCheckpoint, EarlyStopping, ReduceLROnPlateau, CSVLogger\n",
    "from keras import optimizers\n",
    "\n",
    "# For preprocessing\n",
    "from sklearn.model_selection import train_test_split\n",
    "from sklearn.preprocessing import MinMaxScaler\n",
    "from sklearn.metrics import mean_squared_error\n",
    "\n",
    "TIME_STEPS = 60\n",
    "BATCH_SIZE = 20\n",
    "EPOCHS = 300\n",
    "\n",
    "iter_changes = \"dropout_layers_0.4_0.4\"\n",
    "OUTPUT_PATH = \"./outputs\"\n",
    "\n",
    "# Read file\n",
    "RESOURCES_PATH = \"{}/resources\".format(os.getcwd())\n",
    "df_ge = pd.read_csv(os.path.join(RESOURCES_PATH, \"ge_us.txt\"), engine='python')"
   ]
  },
  {
   "cell_type": "code",
   "execution_count": 204,
   "metadata": {},
   "outputs": [
    {
     "name": "stdout",
     "output_type": "stream",
     "text": [
      "Training set size: 11246, Test set size: 2812\n"
     ]
    }
   ],
   "source": [
    "train_cols = [\"Open\",\"High\",\"Low\",\"Close\",\"Volume\"]\n",
    "df_train, df_test = train_test_split(df_ge, train_size=0.8, test_size=0.2, shuffle=False)\n",
    "print(\"Training set size: {}, Test set size: {}\".format(len(df_train), len(df_test)))"
   ]
  },
  {
   "cell_type": "code",
   "execution_count": 205,
   "metadata": {},
   "outputs": [
    {
     "name": "stdout",
     "output_type": "stream",
     "text": [
      "Normalized training set size: 11246, Test set size: 2812\n"
     ]
    }
   ],
   "source": [
    "# scale the feature MinMax, build array\n",
    "x = df_train.loc[:,train_cols].values\n",
    "min_max_scaler = MinMaxScaler()\n",
    "x_train = min_max_scaler.fit_transform(x)\n",
    "x_test = min_max_scaler.transform(df_test.loc[:,train_cols])\n",
    "print(\"Normalized training set size: {}, Test set size: {}\".format(len(x_train), len(x_test)))"
   ]
  },
  {
   "cell_type": "code",
   "execution_count": 206,
   "metadata": {},
   "outputs": [
    {
     "name": "stdout",
     "output_type": "stream",
     "text": [
      "Deleting unused dataframes of total size: 2938KB\n"
     ]
    }
   ],
   "source": [
    "print(\"Deleting unused dataframes of total size: {}KB\".format((sys.getsizeof(df_ge)+sys.getsizeof(df_train)+sys.getsizeof(df_test))//1024))"
   ]
  },
  {
   "cell_type": "code",
   "execution_count": 207,
   "metadata": {},
   "outputs": [],
   "source": [
    "del df_ge\n",
    "del df_train\n",
    "del df_test\n",
    "del x"
   ]
  },
  {
   "cell_type": "code",
   "execution_count": 208,
   "metadata": {},
   "outputs": [
    {
     "name": "stdout",
     "output_type": "stream",
     "text": [
      "('Is any NaNs in train/test data set?', False, False)\n"
     ]
    }
   ],
   "source": [
    "print(\"Is any NaNs in train/test data set?\", np.isnan(x_train).any(), np.isnan(x_test).any())"
   ]
  },
  {
   "cell_type": "code",
   "execution_count": 209,
   "metadata": {},
   "outputs": [],
   "source": [
    "def build_timeseries(data_set, y_col_index):\n",
    "    \"\"\"\n",
    "    Converts ndarray into timeseries format and supervised data format. Takes first TIME_STEPS\n",
    "    number of rows as input and sets the TIME_STEPS+1th data as corresponding output and so on.\n",
    "    :param mat: ndarray which holds the dataset\n",
    "    :param y_col_index: index of column which acts as output\n",
    "    :return: returns two ndarrays-- input and output in format suitable to feed\n",
    "    to LSTM.\n",
    "    \"\"\"\n",
    "    # total number of time-series samples would be len(mat) - TIME_STEPS\n",
    "    dim_0 = data_set.shape[0] - TIME_STEPS\n",
    "    dim_1 = data_set.shape[1]\n",
    "    \n",
    "    x = np.zeros((dim_0, TIME_STEPS, dim_1))\n",
    "    y = np.zeros((dim_0,))\n",
    "    for i in tqdm_notebook(range(dim_0)):\n",
    "        x[i] = data_set[i:i+TIME_STEPS]\n",
    "        y[i] = data_set[i+TIME_STEPS, y_col_index]\n",
    "    print(\"length of time-series i/o\", x.shape, y.shape)\n",
    "    return x, y"
   ]
  },
  {
   "cell_type": "code",
   "execution_count": 210,
   "metadata": {},
   "outputs": [
    {
     "data": {
      "application/vnd.jupyter.widget-view+json": {
       "model_id": "1b4aeb639256407499d3110922eb557c",
       "version_major": 2,
       "version_minor": 0
      },
      "text/plain": [
       "HBox(children=(IntProgress(value=0, max=11186), HTML(value=u'')))"
      ]
     },
     "metadata": {},
     "output_type": "display_data"
    },
    {
     "name": "stdout",
     "output_type": "stream",
     "text": [
      "\n",
      "('length of time-series i/o', (11186, 60, 5), (11186,))\n"
     ]
    }
   ],
   "source": [
    "x_t, y_t = build_timeseries(x_train, 3)"
   ]
  },
  {
   "cell_type": "code",
   "execution_count": 211,
   "metadata": {},
   "outputs": [],
   "source": [
    "def trim_dataset(data_set, batch_size):\n",
    "    \"\"\"\n",
    "    trims dataset to a size that's divisible by BATCH_SIZE\n",
    "    \"\"\"\n",
    "    num_of_rows_drop = data_set.shape[0]%batch_size\n",
    "    if num_of_rows_drop > 0:\n",
    "        data_set = data_set[:-num_of_rows_drop]\n",
    "    return data_set"
   ]
  },
  {
   "cell_type": "code",
   "execution_count": 212,
   "metadata": {},
   "outputs": [
    {
     "name": "stdout",
     "output_type": "stream",
     "text": [
      "('Batch trimmed size', (11180, 60, 5), (11180,))\n"
     ]
    }
   ],
   "source": [
    "x_t = trim_dataset(x_t, BATCH_SIZE)\n",
    "y_t = trim_dataset(y_t, BATCH_SIZE)\n",
    "print(\"Batch trimmed size\",x_t.shape, y_t.shape)"
   ]
  },
  {
   "cell_type": "code",
   "execution_count": 213,
   "metadata": {},
   "outputs": [
    {
     "data": {
      "application/vnd.jupyter.widget-view+json": {
       "model_id": "b641ca3ab21f4b379ccd7fadead76a7d",
       "version_major": 2,
       "version_minor": 0
      },
      "text/plain": [
       "HBox(children=(IntProgress(value=0, max=2752), HTML(value=u'')))"
      ]
     },
     "metadata": {},
     "output_type": "display_data"
    },
    {
     "name": "stdout",
     "output_type": "stream",
     "text": [
      "\n",
      "('length of time-series i/o', (2752, 60, 5), (2752,))\n",
      "('Test size', (1370, 60, 5), (1370,), (1370, 60, 5), (1370,))\n"
     ]
    }
   ],
   "source": [
    "x_temp, y_temp = build_timeseries(x_test, 3)\n",
    "x_val, x_test_t = np.split(trim_dataset(x_temp, BATCH_SIZE),2)\n",
    "y_val, y_test_t = np.split(trim_dataset(y_temp, BATCH_SIZE),2)\n",
    "print(\"Test size\", x_test_t.shape, y_test_t.shape, x_val.shape, y_val.shape)"
   ]
  },
  {
   "cell_type": "code",
   "execution_count": 214,
   "metadata": {},
   "outputs": [],
   "source": [
    "def create_model():\n",
    "    lstm_model = Sequential()\n",
    "    lstm_model.add(LSTM(100, batch_input_shape=(BATCH_SIZE, TIME_STEPS, x_t.shape[2]),\n",
    "                        dropout=0.0, recurrent_dropout=0.0, stateful=True, return_sequences=True,\n",
    "                        kernel_initializer='random_uniform'))\n",
    "    \n",
    "    lstm_model.add(Dropout(0.4))\n",
    "    lstm_model.add(LSTM(60, dropout=0.0))\n",
    "    lstm_model.add(Dropout(0.4))\n",
    "    lstm_model.add(Dense(20,activation='relu'))\n",
    "    lstm_model.add(Dense(1,activation='sigmoid'))\n",
    "    optimizer = optimizers.RMSprop(lr=0.0001)\n",
    "    lstm_model.compile(loss='mean_squared_error', optimizer=optimizer)\n",
    "    return lstm_model"
   ]
  },
  {
   "cell_type": "code",
   "execution_count": 215,
   "metadata": {},
   "outputs": [
    {
     "name": "stdout",
     "output_type": "stream",
     "text": [
      "Building model...\n",
      "('checking if GPU available', [])\n",
      "Train on 11180 samples, validate on 1360 samples\n",
      "Epoch 1/300\n",
      " - 30s - loss: 0.0185 - val_loss: 0.0357\n",
      "\n",
      "Epoch 00001: val_loss improved from inf to 0.03566, saving model to ./outputs/best_model.h5\n",
      "Epoch 2/300\n",
      " - 29s - loss: 0.0049 - val_loss: 0.0025\n",
      "\n",
      "Epoch 00002: val_loss improved from 0.03566 to 0.00248, saving model to ./outputs/best_model.h5\n",
      "Epoch 3/300\n",
      " - 29s - loss: 0.0015 - val_loss: 0.0023\n",
      "\n",
      "Epoch 00003: val_loss improved from 0.00248 to 0.00229, saving model to ./outputs/best_model.h5\n",
      "Epoch 4/300\n",
      " - 28s - loss: 0.0014 - val_loss: 0.0020\n",
      "\n",
      "Epoch 00004: val_loss improved from 0.00229 to 0.00196, saving model to ./outputs/best_model.h5\n",
      "Epoch 5/300\n",
      " - 28s - loss: 0.0013 - val_loss: 0.0017\n",
      "\n",
      "Epoch 00005: val_loss improved from 0.00196 to 0.00168, saving model to ./outputs/best_model.h5\n",
      "Epoch 6/300\n",
      " - 29s - loss: 0.0012 - val_loss: 0.0015\n",
      "\n",
      "Epoch 00006: val_loss improved from 0.00168 to 0.00152, saving model to ./outputs/best_model.h5\n",
      "Epoch 7/300\n",
      " - 29s - loss: 0.0012 - val_loss: 0.0015\n",
      "\n",
      "Epoch 00007: val_loss improved from 0.00152 to 0.00148, saving model to ./outputs/best_model.h5\n",
      "Epoch 8/300\n",
      " - 30s - loss: 0.0011 - val_loss: 0.0013\n",
      "\n",
      "Epoch 00008: val_loss improved from 0.00148 to 0.00135, saving model to ./outputs/best_model.h5\n",
      "Epoch 9/300\n",
      " - 29s - loss: 0.0010 - val_loss: 0.0012\n",
      "\n",
      "Epoch 00009: val_loss improved from 0.00135 to 0.00123, saving model to ./outputs/best_model.h5\n",
      "Epoch 10/300\n",
      " - 30s - loss: 0.0010 - val_loss: 0.0011\n",
      "\n",
      "Epoch 00010: val_loss improved from 0.00123 to 0.00108, saving model to ./outputs/best_model.h5\n",
      "Epoch 11/300\n",
      " - 30s - loss: 0.0010 - val_loss: 9.7832e-04\n",
      "\n",
      "Epoch 00011: val_loss improved from 0.00108 to 0.00098, saving model to ./outputs/best_model.h5\n",
      "Epoch 12/300\n",
      " - 30s - loss: 9.5931e-04 - val_loss: 9.0382e-04\n",
      "\n",
      "Epoch 00012: val_loss improved from 0.00098 to 0.00090, saving model to ./outputs/best_model.h5\n",
      "Epoch 13/300\n",
      " - 31s - loss: 9.5142e-04 - val_loss: 0.0011\n",
      "\n",
      "Epoch 00013: val_loss did not improve from 0.00090\n",
      "Epoch 14/300\n",
      " - 32s - loss: 8.6711e-04 - val_loss: 9.7503e-04\n",
      "\n",
      "Epoch 00014: val_loss did not improve from 0.00090\n",
      "Epoch 15/300\n",
      " - 31s - loss: 9.0125e-04 - val_loss: 9.9521e-04\n",
      "\n",
      "Epoch 00015: val_loss did not improve from 0.00090\n",
      "Epoch 16/300\n",
      " - 30s - loss: 8.7202e-04 - val_loss: 9.2828e-04\n",
      "\n",
      "Epoch 00016: val_loss did not improve from 0.00090\n",
      "Epoch 17/300\n",
      " - 30s - loss: 7.8651e-04 - val_loss: 0.0013\n",
      "\n",
      "Epoch 00017: val_loss did not improve from 0.00090\n",
      "Epoch 18/300\n",
      " - 31s - loss: 8.1027e-04 - val_loss: 0.0013\n",
      "\n",
      "Epoch 00018: val_loss did not improve from 0.00090\n",
      "Epoch 19/300\n",
      " - 31s - loss: 7.9569e-04 - val_loss: 0.0016\n",
      "\n",
      "Epoch 00019: val_loss did not improve from 0.00090\n",
      "Epoch 20/300\n",
      " - 30s - loss: 7.8580e-04 - val_loss: 0.0017\n",
      "\n",
      "Epoch 00020: val_loss did not improve from 0.00090\n",
      "Epoch 21/300\n",
      " - 30s - loss: 7.2585e-04 - val_loss: 0.0018\n",
      "\n",
      "Epoch 00021: val_loss did not improve from 0.00090\n",
      "Epoch 22/300\n",
      " - 30s - loss: 7.0433e-04 - val_loss: 0.0018\n",
      "\n",
      "Epoch 00022: val_loss did not improve from 0.00090\n",
      "Epoch 23/300\n",
      " - 30s - loss: 6.7546e-04 - val_loss: 0.0025\n",
      "\n",
      "Epoch 00023: val_loss did not improve from 0.00090\n",
      "Epoch 24/300\n",
      " - 31s - loss: 6.9919e-04 - val_loss: 0.0018\n",
      "\n",
      "Epoch 00024: val_loss did not improve from 0.00090\n",
      "Epoch 25/300\n",
      " - 31s - loss: 6.6044e-04 - val_loss: 0.0022\n",
      "\n",
      "Epoch 00025: val_loss did not improve from 0.00090\n",
      "Epoch 26/300\n",
      " - 31s - loss: 6.5523e-04 - val_loss: 0.0025\n",
      "\n",
      "Epoch 00026: val_loss did not improve from 0.00090\n",
      "Epoch 27/300\n",
      " - 31s - loss: 6.3404e-04 - val_loss: 0.0021\n",
      "\n",
      "Epoch 00027: val_loss did not improve from 0.00090\n",
      "Epoch 28/300\n",
      " - 31s - loss: 6.2739e-04 - val_loss: 0.0022\n",
      "\n",
      "Epoch 00028: val_loss did not improve from 0.00090\n",
      "Epoch 29/300\n",
      " - 31s - loss: 6.2132e-04 - val_loss: 0.0021\n",
      "\n",
      "Epoch 00029: val_loss did not improve from 0.00090\n",
      "Epoch 30/300\n",
      " - 30s - loss: 6.0644e-04 - val_loss: 0.0024\n",
      "\n",
      "Epoch 00030: val_loss did not improve from 0.00090\n",
      "Epoch 31/300\n",
      " - 30s - loss: 6.0710e-04 - val_loss: 0.0020\n",
      "\n",
      "Epoch 00031: val_loss did not improve from 0.00090\n",
      "Epoch 32/300\n",
      " - 30s - loss: 6.0868e-04 - val_loss: 0.0021\n",
      "\n",
      "Epoch 00032: val_loss did not improve from 0.00090\n",
      "Epoch 33/300\n",
      " - 32s - loss: 5.8853e-04 - val_loss: 0.0020\n",
      "\n",
      "Epoch 00033: val_loss did not improve from 0.00090\n",
      "Epoch 34/300\n",
      " - 30s - loss: 5.6256e-04 - val_loss: 0.0020\n",
      "\n",
      "Epoch 00034: val_loss did not improve from 0.00090\n",
      "Epoch 35/300\n",
      " - 30s - loss: 5.6614e-04 - val_loss: 0.0023\n",
      "\n",
      "Epoch 00035: val_loss did not improve from 0.00090\n",
      "Epoch 36/300\n",
      " - 30s - loss: 5.7374e-04 - val_loss: 0.0022\n",
      "\n",
      "Epoch 00036: val_loss did not improve from 0.00090\n",
      "Epoch 37/300\n",
      " - 30s - loss: 5.3857e-04 - val_loss: 0.0022\n",
      "\n",
      "Epoch 00037: val_loss did not improve from 0.00090\n",
      "Epoch 38/300\n",
      " - 30s - loss: 5.6156e-04 - val_loss: 0.0022\n",
      "\n",
      "Epoch 00038: val_loss did not improve from 0.00090\n",
      "Epoch 39/300\n",
      " - 30s - loss: 5.5625e-04 - val_loss: 0.0020\n",
      "\n",
      "Epoch 00039: val_loss did not improve from 0.00090\n",
      "Epoch 40/300\n",
      " - 32s - loss: 5.4655e-04 - val_loss: 0.0021\n",
      "\n",
      "Epoch 00040: val_loss did not improve from 0.00090\n",
      "Epoch 41/300\n",
      " - 32s - loss: 5.4190e-04 - val_loss: 0.0018\n",
      "\n",
      "Epoch 00041: val_loss did not improve from 0.00090\n",
      "Epoch 42/300\n",
      " - 33s - loss: 4.9843e-04 - val_loss: 0.0022\n",
      "\n",
      "Epoch 00042: val_loss did not improve from 0.00090\n",
      "Epoch 43/300\n",
      " - 33s - loss: 5.1574e-04 - val_loss: 0.0019\n",
      "\n",
      "Epoch 00043: val_loss did not improve from 0.00090\n",
      "Epoch 44/300\n",
      " - 33s - loss: 5.1633e-04 - val_loss: 0.0020\n",
      "\n",
      "Epoch 00044: val_loss did not improve from 0.00090\n",
      "Epoch 45/300\n",
      " - 34s - loss: 5.1904e-04 - val_loss: 0.0020\n",
      "\n",
      "Epoch 00045: val_loss did not improve from 0.00090\n",
      "Epoch 46/300\n",
      " - 32s - loss: 5.1114e-04 - val_loss: 0.0019\n",
      "\n",
      "Epoch 00046: val_loss did not improve from 0.00090\n",
      "Epoch 47/300\n",
      " - 31s - loss: 5.3995e-04 - val_loss: 0.0018\n",
      "\n",
      "Epoch 00047: val_loss did not improve from 0.00090\n",
      "Epoch 48/300\n",
      " - 32s - loss: 4.9326e-04 - val_loss: 0.0013\n",
      "\n",
      "Epoch 00048: val_loss did not improve from 0.00090\n",
      "Epoch 49/300\n",
      " - 32s - loss: 5.0436e-04 - val_loss: 0.0014\n",
      "\n",
      "Epoch 00049: val_loss did not improve from 0.00090\n",
      "Epoch 50/300\n",
      " - 30s - loss: 5.1354e-04 - val_loss: 0.0012\n",
      "\n",
      "Epoch 00050: val_loss did not improve from 0.00090\n",
      "Epoch 51/300\n",
      " - 32s - loss: 4.7889e-04 - val_loss: 0.0015\n",
      "\n",
      "Epoch 00051: val_loss did not improve from 0.00090\n",
      "Epoch 00051: early stopping\n",
      "saving model...\n"
     ]
    }
   ],
   "source": [
    "from keras import backend as K\n",
    "print(\"Building model...\")\n",
    "print(\"checking if GPU available\", K.tensorflow_backend._get_available_gpus())\n",
    "model = create_model()\n",
    "es = EarlyStopping(monitor='val_loss', mode='min', verbose=1, patience=40, min_delta=0.0001)\n",
    "\n",
    "mcp = ModelCheckpoint(os.path.join(OUTPUT_PATH,\n",
    "                      \"best_model.h5\"), monitor='val_loss', verbose=1,\n",
    "                      save_best_only=True, save_weights_only=False, mode='min', period=1)\n",
    "\n",
    "# Not used here. But leaving it here as a reminder for future\n",
    "r_lr_plat = ReduceLROnPlateau(monitor='val_loss', factor=0.1, patience=30, \n",
    "                              verbose=0, mode='auto', min_delta=0.0001, cooldown=0, min_lr=0)\n",
    "\n",
    "csv_logger = CSVLogger(os.path.join(OUTPUT_PATH, 'training_log_' + time.ctime().replace(\" \",\"_\") + '.log'), append=True)\n",
    "\n",
    "history = model.fit(x_t, y_t, epochs=EPOCHS, verbose=2, batch_size=BATCH_SIZE,\n",
    "                    shuffle=False, validation_data=(trim_dataset(x_val, BATCH_SIZE),\n",
    "                    trim_dataset(y_val, BATCH_SIZE)), callbacks=[es, mcp, csv_logger])\n",
    "\n",
    "print(\"saving model...\")\n",
    "pickle.dump(model, open(\"lstm_model\", \"wb\"))"
   ]
  },
  {
   "cell_type": "code",
   "execution_count": 216,
   "metadata": {},
   "outputs": [
    {
     "name": "stdout",
     "output_type": "stream",
     "text": [
      "('Error is', 0.001664756078201761, (1360,), (1360,))\n",
      "[0.40712535 0.40482047 0.40211764 0.40075338 0.40007663 0.3992446\n",
      " 0.3996965  0.40135628 0.4033757  0.40515077 0.40627244 0.40613702\n",
      " 0.40461487 0.40333492 0.40027976]\n",
      "[0.32378063 0.32499919 0.32800358 0.32905407 0.32905407 0.33031465\n",
      " 0.32943225 0.33205846 0.32659593 0.32747834 0.31770881 0.31092267\n",
      " 0.31258244 0.32378063 0.32592362]\n"
     ]
    }
   ],
   "source": [
    "y_pred = model.predict(trim_dataset(x_test_t, BATCH_SIZE), batch_size=BATCH_SIZE)\n",
    "y_pred = y_pred.flatten()\n",
    "y_test_t = trim_dataset(y_test_t, BATCH_SIZE)\n",
    "error = mean_squared_error(y_test_t, y_pred)\n",
    "print(\"Error is\", error, y_pred.shape, y_test_t.shape)\n",
    "print(y_pred[0:15])\n",
    "print(y_test_t[0:15])"
   ]
  },
  {
   "cell_type": "code",
   "execution_count": 217,
   "metadata": {},
   "outputs": [
    {
     "name": "stdout",
     "output_type": "stream",
     "text": [
      "[19.836958 19.727253 19.598606 19.533672 19.501461 19.461859 19.483368\n",
      " 19.562368 19.658485 19.742973 19.796362 19.789917 19.717466 19.656546\n",
      " 19.51113 ]\n",
      "[15.87  15.928 16.071 16.121 16.121 16.181 16.139 16.264 16.004 16.046\n",
      " 15.581 15.258 15.337 15.87  15.972]\n"
     ]
    }
   ],
   "source": [
    "# convert the predicted value to range of real data\n",
    "y_pred_org = (y_pred * min_max_scaler.data_range_[3]) + min_max_scaler.data_min_[3]\n",
    "# min_max_scaler.inverse_transform(y_pred)\n",
    "y_test_t_org = (y_test_t * min_max_scaler.data_range_[3]) + min_max_scaler.data_min_[3]\n",
    "# min_max_scaler.inverse_transform(y_test_t)\n",
    "print(y_pred_org[0:15])\n",
    "print(y_test_t_org[0:15])"
   ]
  },
  {
   "cell_type": "code",
   "execution_count": 220,
   "metadata": {},
   "outputs": [
    {
     "data": {
      "image/png": "[encoded data removed]",
      "text/plain": [
       "<Figure size 432x288 with 1 Axes>"
      ]
     },
     "metadata": {
      "needs_background": "light"
     },
     "output_type": "display_data"
    },
    {
     "data": {
      "text/plain": [
       "<Figure size 432x288 with 0 Axes>"
      ]
     },
     "metadata": {},
     "output_type": "display_data"
    }
   ],
   "source": [
    "from matplotlib import pyplot as plt\n",
    "plt.figure()\n",
    "plt.plot(history.history['loss'])\n",
    "plt.plot(history.history['val_loss'])\n",
    "plt.title('Model loss')\n",
    "plt.ylabel('Loss')\n",
    "plt.xlabel('Epoch')\n",
    "plt.legend(['Train', 'Test'], loc='upper left')\n",
    "plt.show()\n",
    "plt.savefig(os.path.join(OUTPUT_PATH, 'train_vis_BS_'+str(BATCH_SIZE)+\"_\"+time.ctime()+'.png'))"
   ]
  },
  {
   "cell_type": "code",
   "execution_count": 221,
   "metadata": {},
   "outputs": [
    {
     "name": "stdout",
     "output_type": "stream",
     "text": [
      "<keras.engine.sequential.Sequential object at 0x12f57b750>\n"
     ]
    }
   ],
   "source": [
    "saved_model = load_model(os.path.join(OUTPUT_PATH, 'best_model.h5')) # , \"lstm_best_7-3-19_12AM\",\n",
    "print(saved_model)"
   ]
  },
  {
   "cell_type": "code",
   "execution_count": 222,
   "metadata": {},
   "outputs": [
    {
     "name": "stdout",
     "output_type": "stream",
     "text": [
      "('Error is', 0.0009615639491309342, (1360,), (1360,))\n",
      "[0.35979712 0.35965234 0.35950196 0.3590652  0.35871944 0.35841593\n",
      " 0.35804436 0.35759702 0.35725272 0.3570115  0.35698238 0.35751092\n",
      " 0.35726777 0.35677528 0.35639292]\n",
      "[0.32378063 0.32499919 0.32800358 0.32905407 0.32905407 0.33031465\n",
      " 0.32943225 0.33205846 0.32659593 0.32747834 0.31770881 0.31092267\n",
      " 0.31258244 0.32378063 0.32592362]\n",
      "[17.584278 17.577387 17.570229 17.54944  17.532984 17.518538 17.50085\n",
      " 17.479559 17.463171 17.45169  17.450304 17.475462 17.463888 17.440447\n",
      " 17.422247]\n",
      "[15.87  15.928 16.071 16.121 16.121 16.181 16.139 16.264 16.004 16.046\n",
      " 15.581 15.258 15.337 15.87  15.972]\n"
     ]
    }
   ],
   "source": [
    "y_pred = saved_model.predict(trim_dataset(x_test_t, BATCH_SIZE), batch_size=BATCH_SIZE)\n",
    "y_pred = y_pred.flatten()\n",
    "y_test_t = trim_dataset(y_test_t, BATCH_SIZE)\n",
    "error = mean_squared_error(y_test_t, y_pred)\n",
    "print(\"Error is\", error, y_pred.shape, y_test_t.shape)\n",
    "print(y_pred[0:15])\n",
    "print(y_test_t[0:15])\n",
    "y_pred_org = (y_pred * min_max_scaler.data_range_[3]) + min_max_scaler.data_min_[3] # min_max_scaler.inverse_transform(y_pred)\n",
    "y_test_t_org = (y_test_t * min_max_scaler.data_range_[3]) + min_max_scaler.data_min_[3] # min_max_scaler.inverse_transform(y_test_t)\n",
    "print(y_pred_org[0:15])\n",
    "print(y_test_t_org[0:15])"
   ]
  },
  {
   "cell_type": "code",
   "execution_count": 226,
   "metadata": {},
   "outputs": [
    {
     "data": {
      "image/png": "[encoded data removed]",
      "text/plain": [
       "<Figure size 432x288 with 1 Axes>"
      ]
     },
     "metadata": {
      "needs_background": "light"
     },
     "output_type": "display_data"
    }
   ],
   "source": [
    "# Visualize the prediction\n",
    "from matplotlib import pyplot as plt\n",
    "plt.figure()\n",
    "plt.plot(y_pred_org)\n",
    "plt.plot(y_test_t_org)\n",
    "plt.title('Prediction vs Real Stock Price')\n",
    "plt.ylabel('Price')\n",
    "plt.xlabel('Days')\n",
    "plt.legend(['Prediction', 'Real'], loc='upper left')\n",
    "plt.savefig(os.path.join(OUTPUT_PATH, 'pred_vs_real_BS'+str(BATCH_SIZE)+\"_\"+time.ctime()+'.png'))"
   ]
  },
  {
   "cell_type": "code",
   "execution_count": null,
   "metadata": {},
   "outputs": [],
   "source": []
  }
 ],
 "metadata": {
  "kernelspec": {
   "display_name": "Python 2",
   "language": "python",
   "name": "python2"
  },
  "language_info": {
   "codemirror_mode": {
    "name": "ipython",
    "version": 2
   },
   "file_extension": ".py",
   "mimetype": "text/x-python",
   "name": "python",
   "nbconvert_exporter": "python",
   "pygments_lexer": "ipython2",
   "version": "2.7.15"
  }
 },
 "nbformat": 4,
 "nbformat_minor": 2
}
